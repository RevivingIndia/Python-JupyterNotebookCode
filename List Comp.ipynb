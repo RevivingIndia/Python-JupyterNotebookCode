{
 "cells": [
  {
   "cell_type": "code",
   "execution_count": 3,
   "id": "1736565e",
   "metadata": {},
   "outputs": [
    {
     "name": "stdout",
     "output_type": "stream",
     "text": [
      "[0, 1, 2, 3, 4, 5, 6, 7, 8, 9] <class 'list'>\n"
     ]
    }
   ],
   "source": [
    "list1 = list(range(0,10))\n",
    "print(list1,type(list1))\n",
    "#range(start,stop,step)"
   ]
  },
  {
   "cell_type": "code",
   "execution_count": 4,
   "id": "0ad5c206",
   "metadata": {},
   "outputs": [
    {
     "data": {
      "text/plain": [
       "[0, 2, 4, 6, 8]"
      ]
     },
     "execution_count": 4,
     "metadata": {},
     "output_type": "execute_result"
    }
   ],
   "source": [
    "#for - if even list elements \n",
    "\n",
    "[x for x in list1 if x%2==0]"
   ]
  },
  {
   "cell_type": "code",
   "execution_count": 6,
   "id": "a4a7c39a",
   "metadata": {},
   "outputs": [
    {
     "name": "stdout",
     "output_type": "stream",
     "text": [
      "['gray', 'black'] <class 'list'>\n"
     ]
    }
   ],
   "source": [
    "colour = ['red','blue','gray','green','black']\n",
    "#in - membership operator\n",
    "\n",
    "result = [x for x in colour if 'a' in x ]\n",
    "print(result,type(result))"
   ]
  },
  {
   "cell_type": "code",
   "execution_count": 7,
   "id": "46c0af21",
   "metadata": {},
   "outputs": [
    {
     "data": {
      "text/plain": [
       "[10, 20, 30]"
      ]
     },
     "execution_count": 7,
     "metadata": {},
     "output_type": "execute_result"
    }
   ],
   "source": [
    "#if - cond omit\n",
    "\n",
    "list2 =[10,20,30]\n",
    "[x for x in list2]"
   ]
  },
  {
   "cell_type": "code",
   "execution_count": 8,
   "id": "351bb9d9",
   "metadata": {},
   "outputs": [
    {
     "data": {
      "text/plain": [
       "['HELLO', 'HI', 'WORLD']"
      ]
     },
     "execution_count": 8,
     "metadata": {},
     "output_type": "execute_result"
    }
   ],
   "source": [
    "list3 =['hello','hi','world']\n",
    "[x.upper() for x in list3]"
   ]
  },
  {
   "cell_type": "code",
   "execution_count": 11,
   "id": "e5bdd417",
   "metadata": {},
   "outputs": [
    {
     "name": "stdout",
     "output_type": "stream",
     "text": [
      "[4, 8, 8, 16] <class 'list'>\n"
     ]
    }
   ],
   "source": [
    "#nested loop \n",
    "#mutiple for loop\n",
    "\n",
    "listx = [y+x for x in [2,4] for y in [x,x*3]]\n",
    "print(listx,type(listx))"
   ]
  },
  {
   "cell_type": "code",
   "execution_count": 16,
   "id": "11a6a632",
   "metadata": {},
   "outputs": [
    {
     "name": "stdout",
     "output_type": "stream",
     "text": [
      "[['January', 'Feb', 'March'], ['April', 'May', 'June'], ['July', 'Sept', 'Oct']]\n",
      "June\n"
     ]
    }
   ],
   "source": [
    "#NLC\n",
    "\n",
    "months = [['January','Feb','March'],['April','May','June'],\n",
    "         ['July','Sept','Oct']]\n",
    "print(months)\n",
    "print(months[1][2])"
   ]
  },
  {
   "cell_type": "code",
   "execution_count": 21,
   "id": "9e3acfda",
   "metadata": {},
   "outputs": [
    {
     "name": "stdout",
     "output_type": "stream",
     "text": [
      "[['January', 'Feb', 'March'], ['April', 'May', 'June'], ['July', 'August']] <class 'list'>\n"
     ]
    }
   ],
   "source": [
    "#NLC\n",
    "\n",
    "months =[['January','Feb','March'],['April','May','June'],['July','August']]\n",
    "print(months,type(months))"
   ]
  },
  {
   "cell_type": "code",
   "execution_count": 22,
   "id": "e0eaa873",
   "metadata": {},
   "outputs": [
    {
     "name": "stdout",
     "output_type": "stream",
     "text": [
      "June\n"
     ]
    }
   ],
   "source": [
    "print(months[1][2])"
   ]
  },
  {
   "cell_type": "code",
   "execution_count": 23,
   "id": "1fde5146",
   "metadata": {},
   "outputs": [
    {
     "data": {
      "text/plain": [
       "['Feb', 'May', 'June', 'July']"
      ]
     },
     "execution_count": 23,
     "metadata": {},
     "output_type": "execute_result"
    }
   ],
   "source": [
    "[months for sublist in months for months in sublist if len(months)<=4]"
   ]
  },
  {
   "cell_type": "code",
   "execution_count": null,
   "id": "a300d9ad",
   "metadata": {},
   "outputs": [],
   "source": []
  },
  {
   "cell_type": "code",
   "execution_count": null,
   "id": "bcdbc7b1",
   "metadata": {},
   "outputs": [],
   "source": []
  },
  {
   "cell_type": "code",
   "execution_count": null,
   "id": "e4831943",
   "metadata": {},
   "outputs": [],
   "source": []
  },
  {
   "cell_type": "code",
   "execution_count": null,
   "id": "08be06e0",
   "metadata": {},
   "outputs": [],
   "source": []
  },
  {
   "cell_type": "code",
   "execution_count": null,
   "id": "8b5d8524",
   "metadata": {},
   "outputs": [],
   "source": []
  },
  {
   "cell_type": "code",
   "execution_count": null,
   "id": "4fc27325",
   "metadata": {},
   "outputs": [],
   "source": []
  },
  {
   "cell_type": "code",
   "execution_count": null,
   "id": "9078ba6b",
   "metadata": {},
   "outputs": [],
   "source": []
  },
  {
   "cell_type": "code",
   "execution_count": null,
   "id": "98ad7b1b",
   "metadata": {},
   "outputs": [],
   "source": []
  },
  {
   "cell_type": "code",
   "execution_count": null,
   "id": "7dc21915",
   "metadata": {},
   "outputs": [],
   "source": []
  },
  {
   "cell_type": "code",
   "execution_count": null,
   "id": "e82e776d",
   "metadata": {},
   "outputs": [],
   "source": []
  },
  {
   "cell_type": "code",
   "execution_count": null,
   "id": "a16f791d",
   "metadata": {},
   "outputs": [],
   "source": []
  },
  {
   "cell_type": "code",
   "execution_count": null,
   "id": "d88de9b6",
   "metadata": {},
   "outputs": [],
   "source": []
  },
  {
   "cell_type": "code",
   "execution_count": null,
   "id": "6f2f9ce7",
   "metadata": {},
   "outputs": [],
   "source": []
  },
  {
   "cell_type": "code",
   "execution_count": null,
   "id": "c31f23bb",
   "metadata": {},
   "outputs": [],
   "source": []
  },
  {
   "cell_type": "code",
   "execution_count": null,
   "id": "32a6174b",
   "metadata": {},
   "outputs": [],
   "source": []
  },
  {
   "cell_type": "code",
   "execution_count": null,
   "id": "85db9837",
   "metadata": {},
   "outputs": [],
   "source": []
  },
  {
   "cell_type": "code",
   "execution_count": null,
   "id": "aa29efa9",
   "metadata": {},
   "outputs": [],
   "source": []
  },
  {
   "cell_type": "code",
   "execution_count": null,
   "id": "2e4b7cdc",
   "metadata": {},
   "outputs": [],
   "source": []
  },
  {
   "cell_type": "code",
   "execution_count": null,
   "id": "7e4d5f84",
   "metadata": {},
   "outputs": [],
   "source": []
  },
  {
   "cell_type": "code",
   "execution_count": null,
   "id": "ead7b2a2",
   "metadata": {},
   "outputs": [],
   "source": []
  },
  {
   "cell_type": "code",
   "execution_count": null,
   "id": "9e1d1586",
   "metadata": {},
   "outputs": [],
   "source": []
  },
  {
   "cell_type": "code",
   "execution_count": null,
   "id": "6ba9fd5e",
   "metadata": {},
   "outputs": [],
   "source": []
  },
  {
   "cell_type": "code",
   "execution_count": null,
   "id": "be428bb7",
   "metadata": {},
   "outputs": [],
   "source": []
  },
  {
   "cell_type": "code",
   "execution_count": null,
   "id": "17c7284a",
   "metadata": {},
   "outputs": [],
   "source": []
  },
  {
   "cell_type": "code",
   "execution_count": null,
   "id": "d7795b78",
   "metadata": {},
   "outputs": [],
   "source": []
  }
 ],
 "metadata": {
  "kernelspec": {
   "display_name": "Python 3",
   "language": "python",
   "name": "python3"
  },
  "language_info": {
   "codemirror_mode": {
    "name": "ipython",
    "version": 3
   },
   "file_extension": ".py",
   "mimetype": "text/x-python",
   "name": "python",
   "nbconvert_exporter": "python",
   "pygments_lexer": "ipython3",
   "version": "3.8.0"
  }
 },
 "nbformat": 4,
 "nbformat_minor": 5
}
